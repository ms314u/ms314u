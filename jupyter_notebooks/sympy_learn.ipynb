{
 "cells": [
  {
   "cell_type": "code",
   "execution_count": 11,
   "metadata": {
    "collapsed": false
   },
   "outputs": [
    {
     "name": "stdout",
     "output_type": "stream",
     "text": [
      "The autoreload extension is already loaded. To reload it, use:\n",
      "  %reload_ext autoreload\n"
     ]
    }
   ],
   "source": [
    "import matplotlib.pyplot as plt\n",
    "import numpy as np\n",
    "import seaborn as sns\n",
    "%matplotlib inline\n",
    "%load_ext autoreload\n",
    "%autoreload 2\n",
    "#\n",
    "import sympy\n",
    "from sympy import symbols, integrate, diff\n",
    "from sympy.functions import exp\n",
    "from sympy import init_printing\n",
    "from sympy import oo, gamma\n",
    "init_printing(use_unicode=True)"
   ]
  },
  {
   "cell_type": "code",
   "execution_count": 12,
   "metadata": {
    "collapsed": false
   },
   "outputs": [
    {
     "data": {
      "image/png": "[encoded data removed]",
      "text/latex": [
       "$$\\frac{\\pi}{2}$$"
      ],
      "text/plain": [
       "π\n",
       "─\n",
       "2"
      ]
     },
     "execution_count": 12,
     "metadata": {},
     "output_type": "execute_result"
    }
   ],
   "source": [
    "x, t = symbols('x, t')\n",
    "integrate(1/(1+x**2), (x, oo))"
   ]
  },
  {
   "cell_type": "markdown",
   "metadata": {},
   "source": [
    "#### MGF of the exponential distribution"
   ]
  },
  {
   "cell_type": "code",
   "execution_count": 15,
   "metadata": {
    "collapsed": false
   },
   "outputs": [
    {
     "data": {
      "image/png": "[encoded data removed]",
      "text/latex": [
       "$$\\begin{cases} - \\frac{1}{t - 1} & \\text{for}\\: \\left|{\\operatorname{periodic_{argument}}{\\left (- t + 1,\\infty \\right )}}\\right| < \\frac{\\pi}{2} \\\\\\int_{0}^{\\infty} e^{- x \\left(- t + 1\\right)}\\, dx & \\text{otherwise} \\end{cases}$$"
      ],
      "text/plain": [
       "⎧       -1                                               π\n",
       "⎪      ─────        for │periodic_argument(-t + 1, ∞)│ < ─\n",
       "⎪      t - 1                                             2\n",
       "⎪                                                         \n",
       "⎪∞                                                        \n",
       "⎨⌠                                                        \n",
       "⎪⎮  -x⋅(-t + 1)                                           \n",
       "⎪⎮ ℯ            dx                otherwise               \n",
       "⎪⌡                                                        \n",
       "⎪0                                                        \n",
       "⎩                                                         "
      ]
     },
     "execution_count": 15,
     "metadata": {},
     "output_type": "execute_result"
    }
   ],
   "source": [
    "integrate(exp(-x*(1-t)), (x, 0, oo))"
   ]
  },
  {
   "cell_type": "markdown",
   "metadata": {},
   "source": [
    "## Gauss"
   ]
  },
  {
   "cell_type": "code",
   "execution_count": 58,
   "metadata": {
    "collapsed": false
   },
   "outputs": [
    {
     "data": {
      "image/png": "[encoded data removed]",
      "text/latex": [
       "$$\\frac{1}{2 s} e^{- \\frac{\\left(- m + x\\right)^{2}}{2 s^{2}}}$$"
      ],
      "text/plain": [
       "          2 \n",
       " -(-m + x)  \n",
       " ───────────\n",
       "        2   \n",
       "     2⋅s    \n",
       "ℯ           \n",
       "────────────\n",
       "    2⋅s     "
      ]
     },
     "execution_count": 58,
     "metadata": {},
     "output_type": "execute_result"
    }
   ],
   "source": [
    "x, m, s = symbols('x, m, s')\n",
    "a = (2*s)**-1\n",
    "b = exp(-(x-m)**2 / (2*s**2))\n",
    "gauss = a*b\n",
    "gauss"
   ]
  },
  {
   "cell_type": "code",
   "execution_count": 50,
   "metadata": {
    "collapsed": false
   },
   "outputs": [
    {
     "data": {
      "image/png": "[encoded data removed]",
      "text/latex": [
       "$$\\frac{\\sqrt{2} \\sqrt{\\pi}}{4} \\operatorname{erf}{\\left (\\frac{\\sqrt{2}}{2 s} \\left(- m + x\\right) \\right )}$$"
      ],
      "text/plain": [
       "         ⎛√2⋅(-m + x)⎞\n",
       "√2⋅√π⋅erf⎜───────────⎟\n",
       "         ⎝    2⋅s    ⎠\n",
       "──────────────────────\n",
       "          4           "
      ]
     },
     "execution_count": 50,
     "metadata": {},
     "output_type": "execute_result"
    }
   ],
   "source": [
    "integrate(gauss,x)"
   ]
  },
  {
   "cell_type": "code",
   "execution_count": 51,
   "metadata": {
    "collapsed": false
   },
   "outputs": [
    {
     "data": {
      "image/png": "[encoded data removed]",
      "text/latex": [
       "$$\\frac{\\sqrt{2} \\sqrt{\\pi}}{4} \\operatorname{erf}{\\left (\\frac{\\sqrt{2} m}{2 s} \\right )} + \\frac{\\sqrt{2} \\sqrt{\\pi}}{4} \\operatorname{erf}{\\left (\\frac{\\sqrt{2}}{2 s} \\left(- m + 1\\right) \\right )}$$"
      ],
      "text/plain": [
       "         ⎛√2⋅m⎞            ⎛√2⋅(-m + 1)⎞\n",
       "√2⋅√π⋅erf⎜────⎟   √2⋅√π⋅erf⎜───────────⎟\n",
       "         ⎝2⋅s ⎠            ⎝    2⋅s    ⎠\n",
       "─────────────── + ──────────────────────\n",
       "       4                    4           "
      ]
     },
     "execution_count": 51,
     "metadata": {},
     "output_type": "execute_result"
    }
   ],
   "source": [
    "integrate(gauss, (x,0,1))"
   ]
  }
 ],
 "metadata": {
  "kernelspec": {
   "display_name": "Python 3",
   "language": "python",
   "name": "python3"
  },
  "language_info": {
   "codemirror_mode": {
    "name": "ipython",
    "version": 3
   },
   "file_extension": ".py",
   "mimetype": "text/x-python",
   "name": "python",
   "nbconvert_exporter": "python",
   "pygments_lexer": "ipython3",
   "version": "3.6.0"
  }
 },
 "nbformat": 4,
 "nbformat_minor": 2
}
