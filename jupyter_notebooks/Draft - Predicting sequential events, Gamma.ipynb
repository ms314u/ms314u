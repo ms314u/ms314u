{
 "cells": [
  {
   "cell_type": "markdown",
   "metadata": {},
   "source": [
    "# Predicting sequential events "
   ]
  },
  {
   "cell_type": "markdown",
   "metadata": {},
   "source": [
    "- Harvard University\n",
    " [Statistics 110: Probability](https://www.youtube.com/playlist?list=PL2SOU6wwxB0uwwH80KTQ6ht66KWxbzTIo)\n",
    "- [lec24] [Lecture 24: Gamma distribution and Poisson process](https://www.youtube.com/watch?v=Qjeswpm0cWY&index=24&list=PL2SOU6wwxB0uwwH80KTQ6ht66KWxbzTIo)\n",
    "- [lec22] [Lecture 22: Transformations and Convolutions](https://www.youtube.com/watch?v=yXwPUAIvFyg&list=PL2SOU6wwxB0uwwH80KTQ6ht66KWxbzTIo&index=22)\n",
    "- [lec17] [Lecture 17: Moment Generating Functions](https://www.youtube.com/watch?v=N8O6zd6vTZ8&index=17&list=PL2SOU6wwxB0uwwH80KTQ6ht66KWxbzTIo)\n",
    "- [lec18] [Lecture 18: MGFs Continued](https://www.youtube.com/watch?v=tVDdx6xUOcs&list=PL2SOU6wwxB0uwwH80KTQ6ht66KWxbzTIo&index=18)\n",
    "- [math.tntech.edu: Sum of independent random variables](http://math.tntech.edu/ISR/Introduction_to_Probability/Distributions_of_Functions/thispage/newnode11.html)\n",
    "- [Table of Common Distributions](http://www.stat.tamu.edu/~twehrly/611/distab.pdf) taken from Statistical Inference by Casella and Berger"
   ]
  },
  {
   "cell_type": "markdown",
   "metadata": {},
   "source": [
    "Gamma function is a generalization of the factorial function.\n",
    "\n",
    "- for positive $\\alpha > 0$ the Gamma function is defined as$\\Gamma (\\alpha) = \\int_{0}^{\\infty} x^{\\alpha-1} e^{-x} dx$\n",
    "- for integer values $n > 0$ it can be written as $\\Gamma (n) = (n-1)!$\n",
    "- also the Gamma function has a property $\\Gamma(x+1) = x \\Gamma(x)$, \n",
    "- also, good to know that $\\Gamma(\\frac{1}{2}) = \\sqrt{\\pi}$\n",
    "\n",
    "The G. PDF is obtained by normalizing the G.f. \n",
    "\n",
    "$1 = \\int_{0}^{\\infty} \\frac{1}{\\Gamma(\\alpha)} x^{\\alpha} e^{-x} \\frac{dx}{x} \\equiv \\Gamma(\\alpha, 1)$\n",
    "\n",
    "the general case $\\Gamma(\\alpha, \\lambda)$, is when we do a substitution by scaling $Y = \\frac{X}{\\lambda}$ where $X \\sim \\Gamma(\\alpha, 1)$\n",
    "\n",
    "Gamma distribution is closely related to the Exponential, Gaussian, Beta, and to to the Poisson probability distributions.\n",
    "\n",
    "to calculate probabilities of sequential events \n",
    "\n",
    "from [1] Let's consider the next task \n",
    "mail arriving into the mailbox \n",
    "\n",
    "for the first arrival time $P(t_1 = \\tau) = e^{-\\lambda t}$\n",
    "\n",
    "interarrival times are i.i.d. from exponential distr. with $\\lambda$\n",
    "\n",
    "the time of the $n-th$ arrival is $T_n$\n",
    "\n",
    "$$\n",
    "    T_n = \\sum_{j=1}^{n} X_j, \\text{ where } X_j \\sim e^{-\\lambda t}\n",
    "$$\n",
    "\n",
    "and it turns out that \n",
    "\n",
    "$$T_n \\sim \\Gamma(n, \\lambda)$$\n",
    "\n",
    "so, the sum of i.i.d exponential is a Gamma distr."
   ]
  },
  {
   "cell_type": "markdown",
   "metadata": {},
   "source": [
    "To proove that we can use convolutions\n",
    "\n",
    "- https://en.wikipedia.org/wiki/Sum_of_normally_distributed_random_variables\n",
    "- https://en.wikipedia.org/wiki/Characteristic_function_(probability_theory)\n",
    "- https://en.wikipedia.org/wiki/Moment-generating_function\n",
    "\n",
    "MGF of the sum of two random independent variables $X$ and $Y$ is the product of their individual MGFs:\n",
    "\n",
    "$$\\phi_{X+Y}(t) = E(e^{i t (X+Y)})$$\n",
    "\n",
    "MGF of the sum of independent random variables is (see [lec17])\n",
    "\n",
    "$$\\mathbb{E}(e^{t (X+Y)}) = \\mathbb{E}(e^{t X}) \\mathbb{E} (e^{t Y})$$\n",
    "\n",
    "_Note:_ MGF is $\\mathbb{E}(e^{tX})$ while characteristic function is $\\mathbb{E}(e^{i t X})$."
   ]
  },
  {
   "cell_type": "markdown",
   "metadata": {},
   "source": [
    "### Particular MGFs  \n",
    "\n",
    "- MGF of the Normal distribution is $M^N (t) = e ^{ (\\mu t + \\frac{\\sigma^2 t^2}{2})}$\n",
    "- MGF of the Exponential distributions is $M^E(t) = \\frac{\\lambda}{\\lambda - t}$\n",
    "- MGF of the Gamma is $M^G(t) = \\Big (\\frac{\\lambda}{\\lambda - t} \\Big)^{\\alpha}$ ([ref](http://math.tntech.edu/ISR/Introduction_to_Probability/Distributions_of_Functions/thispage/newnode11.html))\n",
    "- MGF of the Poisson is $M^P(t) = \\mathbb{E}(e^{tX}) = \\sum_{k=0}^{\\infty} e^{tk} e^{-\\lambda} \\lambda^k/k! = e^{\\lambda (e^t-1)}$ (see [lec.18](https://youtu.be/tVDdx6xUOcs?t=20m16s))\n"
   ]
  },
  {
   "cell_type": "markdown",
   "metadata": {},
   "source": [
    "### MGFs of the sums of random variables"
   ]
  },
  {
   "cell_type": "markdown",
   "metadata": {},
   "source": [
    "**For the Poisson.**\n",
    "To find MGF of the sum of two independent Poissons we as susally multiply two MGFs\n",
    "\n",
    "$$M^P_{X+Y} (t) =  e^{\\lambda (e^t-1)}  e^{\\mu (e^t-1)} =  e^{(\\lambda+\\mu) (e^t-1)}$$\n",
    "\n",
    "It means $X+Y \\sim \\text{Poiss}(\\lambda + \\mu)$ (note: the sum of two Poissons is also a Poisson, which is not general for any distribution)"
   ]
  },
  {
   "cell_type": "markdown",
   "metadata": {},
   "source": [
    "**For Normal**\n",
    "\n",
    "$$M^N_{X+Y}(t) = \\exp \\Big ( t \\mu_X  + \\frac{\\sigma_X^2 t^2}{2} \\Big) \\cdot \\exp \\Big ( t \\mu_Y  + \\frac{\\sigma_Y^2 t^2}{2} \\Big) = \\exp \\Big [ (\\mu_X + \\mu_Y) t + \\frac{(\\sigma_X^2 + \\sigma_Y^2) t^2}{2} \\Big ] $$\n",
    "\n",
    "which is a characteristic function of the normal distribution with parameters $(\\mu =  \\mu_X + \\mu_Y, \\sigma^2 = \\sigma_X^2 + \\sigma_Y^2)$."
   ]
  },
  {
   "cell_type": "markdown",
   "metadata": {},
   "source": [
    "**For the Gamma**\n",
    "\n",
    "$$M^G_{X+Y} (t) = M^G_X (t) \\cdot M^G_Y (t) = \\Big (\\frac{\\lambda}{\\lambda - t} \\Big)^{\\alpha_1}  \\Big (\\frac{\\lambda}{\\lambda - t} \\Big)^{\\alpha_2} =  \\Big (\\frac{\\lambda}{\\lambda - t} \\Big)^{\\alpha_1 + \\alpha_2}$$"
   ]
  },
  {
   "cell_type": "markdown",
   "metadata": {},
   "source": [
    "**For the Exponential**\n",
    "\n",
    "$$M^E_{X+Y}(t) = \\frac{\\lambda_1}{\\lambda_1 - t} \\frac{\\lambda_2}{\\lambda_2 - t}$$"
   ]
  },
  {
   "cell_type": "markdown",
   "metadata": {},
   "source": [
    "- Connection Poisson / Normal , Gamma for predicting sequential events"
   ]
  },
  {
   "cell_type": "markdown",
   "metadata": {},
   "source": [
    "_Note:_ UNLIKE Normal, Exponential is memoryless !!!\n",
    "\n",
    "I.e. see [lec17]\n",
    "\n",
    "$$E(T | T > 20) = 20 + E(T)$$"
   ]
  },
  {
   "cell_type": "markdown",
   "metadata": {},
   "source": [
    " [lec18 4:23](https://youtu.be/tVDdx6xUOcs?t=4m23s)"
   ]
  },
  {
   "cell_type": "code",
   "execution_count": null,
   "metadata": {
    "collapsed": true
   },
   "outputs": [],
   "source": []
  }
 ],
 "metadata": {
  "kernelspec": {
   "display_name": "Python 3",
   "language": "python",
   "name": "python3"
  },
  "language_info": {
   "codemirror_mode": {
    "name": "ipython",
    "version": 3
   },
   "file_extension": ".py",
   "mimetype": "text/x-python",
   "name": "python",
   "nbconvert_exporter": "python",
   "pygments_lexer": "ipython3",
   "version": "3.6.0"
  }
 },
 "nbformat": 4,
 "nbformat_minor": 2
}
