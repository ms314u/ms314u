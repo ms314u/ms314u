{
 "cells": [
  {
   "cell_type": "markdown",
   "metadata": {
    "collapsed": true
   },
   "source": [
    "### succession events \n",
    "\n",
    "[lec17] 44.09\n",
    "\n",
    "Bernoulli events with $p$ - changepoints\n",
    "\n",
    "$$P(x_{n+1} =1 | S_n = k)$$\n",
    "\n",
    "$$f(p| S_n = k) \\frac{P(S_n = k | p) \\: (f(p) \\equiv 1)}{P(S_n = k)}$$"
   ]
  },
  {
   "cell_type": "markdown",
   "metadata": {},
   "source": [
    "- The characteristic function of the normal distribution is \n",
    "\n",
    "$$\\phi(t) = \\exp (i t \\mu + \\frac{\\sigma^2 i^2 t^2}{2})$$\n"
   ]
  },
  {
   "cell_type": "markdown",
   "metadata": {},
   "source": [
    "- Characteristic function of the exponential distributions is $$\\phi(t) = (1 - i \\frac{t}{\\lambda})^{-1} = \\frac{\\lambda}{\\lambda - i t}$$"
   ]
  }
 ],
 "metadata": {
  "kernelspec": {
   "display_name": "Python 3",
   "language": "python",
   "name": "python3"
  },
  "language_info": {
   "codemirror_mode": {
    "name": "ipython",
    "version": 3
   },
   "file_extension": ".py",
   "mimetype": "text/x-python",
   "name": "python",
   "nbconvert_exporter": "python",
   "pygments_lexer": "ipython3",
   "version": "3.6.0"
  }
 },
 "nbformat": 4,
 "nbformat_minor": 2
}
