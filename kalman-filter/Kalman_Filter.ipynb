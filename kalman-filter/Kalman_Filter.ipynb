{
 "cells": [
  {
   "cell_type": "code",
   "execution_count": 1,
   "metadata": {
    "collapsed": true
   },
   "outputs": [],
   "source": [
    "import matplotlib.pyplot as plt\n",
    "import numpy as np\n",
    "import seaborn as sns\n",
    "sns.set_style(\"whitegrid\")\n",
    "%matplotlib inline\n",
    "%load_ext autoreload\n",
    "%autoreload 2"
   ]
  },
  {
   "cell_type": "code",
   "execution_count": 2,
   "metadata": {
    "collapsed": false
   },
   "outputs": [
    {
     "data": {
      "image/png": "[encoded data removed]",
      "text/plain": [
       "<matplotlib.figure.Figure at 0x199aa35bcf8>"
      ]
     },
     "metadata": {},
     "output_type": "display_data"
    }
   ],
   "source": [
    "def kalman1d(n, z, sigma0=0.1, r=0.1):\n",
    "    \"\"\"\n",
    "    :param n: Number of time moments\n",
    "    :param z: measurements\n",
    "    :param sigma0:\n",
    "    :param r:\n",
    "    :return: Corrected predicted values, Confidence interval values\n",
    "    \"\"\"\n",
    "    xhatminus = np.zeros(n)  # Predictions / priors\n",
    "    xhatminus[0] = 1\n",
    "    xhat = np.zeros(n)  # updated estimates\n",
    "    Pminus = np.zeros(n)  # Projected variance values\n",
    "    sigmas = np.zeros(n)  # Variance of the estimate\n",
    "    sigmas[0] = sigma0\n",
    "    P = np.zeros(n)  # Updated error variance\n",
    "    K = np.zeros(n)  # Kalman gain values\n",
    "    R = r  # Mesuarement variance during the inspection\n",
    "    Q = sigma0  # Process variance \n",
    "    P[0] = 1.0\n",
    "    A = 1.0\n",
    "    for k in range(1, n):\n",
    "        xhatminus[k] = xhatminus[k-1] * A + 1\n",
    "        if z[k] == -1:\n",
    "            Pminus[k] = Pminus[k-1] + Q\n",
    "            xhat[k] = xhatminus[k]\n",
    "        else:\n",
    "            Pminus[k] = P[k-1] + Q\n",
    "            K[k] = Pminus[k]/(Pminus[k]+R)\n",
    "            xhat[k] = xhatminus[k] + K[k] * (z[k] - xhatminus[k])\n",
    "            P[k] = (1-K[k]) * Pminus[k]\n",
    "    return xhat, Pminus\n",
    "\n",
    "\n",
    "if __name__ == \"__main__\":\n",
    "    N = 15\n",
    "    updates_values = np.ones(N) * -1\n",
    "    updates_values[3] = 2.5\n",
    "    updates_values[7] = 7.103\n",
    "    estims, conf_int = kalman1d(N, updates_values, sigma0=0.11, r=0.055)\n",
    "    fig = plt.figure()\n",
    "    ax = fig.add_subplot(111)\n",
    "    ax.plot(estims, color=\"black\")\n",
    "    ax.plot(estims + conf_int, color=\"red\")\n",
    "    ax.plot(estims - conf_int, color=\"red\")\n",
    "    plt.show()"
   ]
  },
  {
   "cell_type": "code",
   "execution_count": null,
   "metadata": {
    "collapsed": true
   },
   "outputs": [],
   "source": []
  }
 ],
 "metadata": {
  "kernelspec": {
   "display_name": "Python 3",
   "language": "python",
   "name": "python3"
  },
  "language_info": {
   "codemirror_mode": {
    "name": "ipython",
    "version": 3
   },
   "file_extension": ".py",
   "mimetype": "text/x-python",
   "name": "python",
   "nbconvert_exporter": "python",
   "pygments_lexer": "ipython3",
   "version": "3.6.0"
  }
 },
 "nbformat": 4,
 "nbformat_minor": 2
}
